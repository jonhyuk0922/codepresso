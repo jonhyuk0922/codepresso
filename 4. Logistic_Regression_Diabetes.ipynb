{
 "cells": [
  {
   "source": [
    "# 1. Import Libraries"
   ],
   "cell_type": "code",
   "metadata": {},
   "execution_count": 2,
   "outputs": []
  },
  {
   "cell_type": "code",
   "execution_count": 28,
   "metadata": {},
   "outputs": [],
   "source": [
    "import numpy as np\n",
    "import pandas as pd\n",
    "import matplotlib.pyplot as plt\n",
    "\n",
    "from sklearn import datasets, model_selection, linear_model\n",
    "from sklearn.metrics import mean_squared_error, accuracy_score"
   ]
  },
  {
   "cell_type": "markdown",
   "metadata": {},
   "source": [
    "# 2. Load Datasets"
   ]
  },
  {
   "cell_type": "code",
   "execution_count": 5,
   "metadata": {},
   "outputs": [],
   "source": [
    "diabetes = datasets.load_diabetes()\n",
    "# diabetes"
   ]
  },
  {
   "cell_type": "code",
   "execution_count": 8,
   "metadata": {},
   "outputs": [],
   "source": [
    "diabetes_target = diabetes.target\n",
    "diabetes_train = diabetes.data"
   ]
  },
  {
   "cell_type": "code",
   "execution_count": 9,
   "metadata": {},
   "outputs": [
    {
     "data": {
      "text/plain": [
       "array([[ 0.03807591,  0.05068012,  0.06169621, ..., -0.00259226,\n",
       "         0.01990842, -0.01764613],\n",
       "       [-0.00188202, -0.04464164, -0.05147406, ..., -0.03949338,\n",
       "        -0.06832974, -0.09220405],\n",
       "       [ 0.08529891,  0.05068012,  0.04445121, ..., -0.00259226,\n",
       "         0.00286377, -0.02593034],\n",
       "       ...,\n",
       "       [ 0.04170844,  0.05068012, -0.01590626, ..., -0.01107952,\n",
       "        -0.04687948,  0.01549073],\n",
       "       [-0.04547248, -0.04464164,  0.03906215, ...,  0.02655962,\n",
       "         0.04452837, -0.02593034],\n",
       "       [-0.04547248, -0.04464164, -0.0730303 , ..., -0.03949338,\n",
       "        -0.00421986,  0.00306441]])"
      ]
     },
     "execution_count": 9,
     "metadata": {},
     "output_type": "execute_result"
    }
   ],
   "source": [
    "diabetes_train"
   ]
  },
  {
   "cell_type": "markdown",
   "metadata": {},
   "source": [
    "# 3. Create binary labels"
   ]
  },
  {
   "cell_type": "code",
   "execution_count": 11,
   "metadata": {},
   "outputs": [
    {
     "name": "stdout",
     "output_type": "stream",
     "text": [
      "152.13348416289594\n"
     ]
    }
   ],
   "source": [
    "mean_measurement = np.mean(diabetes_target)\n",
    "print(mean_measurement)"
   ]
  },
  {
   "cell_type": "code",
   "execution_count": 14,
   "metadata": {},
   "outputs": [
    {
     "data": {
      "text/plain": [
       "array([0, 0, 0, 1, 0, 0, 0, 0, 0, 1, 0, 0, 1, 1, 0, 1, 1, 0, 0, 1, 0, 0,\n",
       "       0, 1, 1, 1, 0, 0, 0, 1, 0, 0, 1, 0, 0, 0, 1, 1, 1, 0, 0, 0, 0, 0,\n",
       "       1, 0, 1, 0, 0, 0, 1, 1, 0, 0, 1, 0, 0, 0, 1, 1, 0, 0, 0, 0, 0, 1,\n",
       "       0, 0, 1, 1, 0, 1, 1, 0, 0, 0, 1, 1, 1, 0, 0, 0, 0, 1, 0, 0, 0, 0,\n",
       "       0, 0, 0, 1, 0, 0, 0, 1, 0, 1, 0, 0, 0, 0, 1, 1, 0, 0, 0, 0, 1, 0,\n",
       "       0, 0, 1, 1, 1, 1, 1, 1, 1, 1, 1, 1, 1, 0, 0, 1, 0, 0, 0, 1, 1, 1,\n",
       "       0, 0, 0, 1, 0, 1, 1, 1, 0, 1, 1, 0, 1, 1, 1, 0, 0, 0, 1, 0, 1, 0,\n",
       "       1, 1, 0, 0, 0, 1, 0, 1, 1, 0, 1, 0, 0, 1, 1, 0, 0, 0, 1, 0, 0, 0,\n",
       "       1, 1, 0, 0, 0, 0, 0, 1, 1, 0, 0, 0, 0, 0, 1, 1, 0, 0, 0, 0, 0, 0,\n",
       "       0, 0, 1, 0, 1, 1, 1, 0, 1, 1, 1, 0, 1, 0, 0, 0, 0, 1, 1, 1, 1, 1,\n",
       "       0, 0, 1, 0, 0, 1, 0, 0, 1, 0, 1, 1, 1, 0, 1, 0, 0, 0, 1, 1, 1, 1,\n",
       "       0, 0, 1, 0, 0, 0, 1, 1, 1, 1, 0, 0, 1, 1, 1, 0, 0, 0, 0, 0, 1, 0,\n",
       "       0, 0, 0, 0, 1, 0, 1, 0, 1, 1, 0, 0, 1, 0, 0, 1, 1, 0, 1, 1, 1, 1,\n",
       "       0, 1, 0, 0, 1, 1, 0, 1, 0, 0, 0, 0, 0, 0, 1, 0, 1, 1, 1, 0, 0, 1,\n",
       "       0, 0, 0, 1, 0, 1, 0, 0, 1, 1, 0, 1, 0, 1, 1, 1, 1, 1, 0, 1, 0, 0,\n",
       "       1, 1, 1, 1, 0, 0, 1, 0, 1, 0, 1, 1, 1, 0, 1, 0, 0, 0, 0, 0, 1, 0,\n",
       "       0, 0, 1, 0, 0, 1, 0, 1, 1, 1, 1, 0, 1, 1, 1, 1, 0, 1, 0, 1, 0, 1,\n",
       "       0, 1, 0, 1, 1, 0, 0, 0, 0, 0, 0, 1, 0, 1, 0, 0, 1, 0, 0, 0, 1, 1,\n",
       "       0, 1, 1, 1, 1, 0, 1, 1, 1, 1, 0, 0, 1, 1, 1, 0, 1, 0, 0, 1, 1, 0,\n",
       "       0, 0, 0, 1, 1, 0, 0, 0, 0, 0, 1, 0, 1, 0, 1, 0, 0, 0, 0, 1, 0, 0,\n",
       "       1, 0])"
      ]
     },
     "execution_count": 14,
     "metadata": {},
     "output_type": "execute_result"
    }
   ],
   "source": [
    "diabetes_target_zero_one = np.array(diabetes_target > mean_measurement, dtype=int)\n",
    "diabetes_target_zero_one"
   ]
  },
  {
   "cell_type": "markdown",
   "metadata": {},
   "source": [
    "# 4. Feature Selection"
   ]
  },
  {
   "cell_type": "code",
   "execution_count": 18,
   "metadata": {},
   "outputs": [
    {
     "data": {
      "text/plain": [
       "array([[ 0.01990842],\n",
       "       [-0.06832974],\n",
       "       [ 0.00286377],\n",
       "       [ 0.02269202],\n",
       "       [-0.03199144],\n",
       "       [-0.04118039],\n",
       "       [-0.06291295],\n",
       "       [-0.03581673],\n",
       "       [-0.01495648],\n",
       "       [ 0.06773633],\n",
       "       [-0.06291295],\n",
       "       [-0.09643322],\n",
       "       [-0.03075121],\n",
       "       [ 0.03839325],\n",
       "       [-0.03199144],\n",
       "       [ 0.03605579],\n",
       "       [ 0.05228   ],\n",
       "       [ 0.02736771],\n",
       "       [-0.01811827],\n",
       "       [-0.00894402],\n",
       "       [-0.01190068],\n",
       "       [-0.07212845],\n",
       "       [-0.0611766 ],\n",
       "       [ 0.13359898],\n",
       "       [-0.02595242],\n",
       "       [ 0.01919903],\n",
       "       [-0.0425721 ],\n",
       "       [-0.01599827],\n",
       "       [-0.00060925],\n",
       "       [ 0.0594238 ],\n",
       "       [-0.02712865],\n",
       "       [-0.03712835],\n",
       "       [ 0.00027149],\n",
       "       [-0.01811827],\n",
       "       [-0.0594727 ],\n",
       "       [ 0.02131085],\n",
       "       [ 0.054724  ],\n",
       "       [ 0.01703713],\n",
       "       [ 0.07142403],\n",
       "       [ 0.01919903],\n",
       "       [ 0.01255315],\n",
       "       [-0.04986847],\n",
       "       [-0.00991896],\n",
       "       [-0.0425721 ],\n",
       "       [ 0.03243323],\n",
       "       [-0.01495648],\n",
       "       [-0.0079794 ],\n",
       "       [-0.01811827],\n",
       "       [-0.0594727 ],\n",
       "       [ 0.03546194],\n",
       "       [-0.02139368],\n",
       "       [-0.00239668],\n",
       "       [-0.01811827],\n",
       "       [-0.03324879],\n",
       "       [-0.04118039],\n",
       "       [-0.06648815],\n",
       "       [ 0.03365681],\n",
       "       [-0.05615757],\n",
       "       [-0.00060925],\n",
       "       [ 0.03839325],\n",
       "       [-0.05140054],\n",
       "       [ 0.0366458 ],\n",
       "       [-0.08238148],\n",
       "       [-0.03075121],\n",
       "       [-0.01919705],\n",
       "       [ 0.0423449 ],\n",
       "       [ 0.00027149],\n",
       "       [-0.01190068],\n",
       "       [-0.01290794],\n",
       "       [-0.05140054],\n",
       "       [-0.06291295],\n",
       "       [ 0.02671426],\n",
       "       [ 0.08449528],\n",
       "       [-0.00514531],\n",
       "       [ 0.00371174],\n",
       "       [ 0.00620932],\n",
       "       [-0.03075121],\n",
       "       [-0.07408887],\n",
       "       [ 0.04289569],\n",
       "       [-0.06832974],\n",
       "       [ 0.02539313],\n",
       "       [-0.00608025],\n",
       "       [-0.07020931],\n",
       "       [-0.01599827],\n",
       "       [-0.06832974],\n",
       "       [-0.04118039],\n",
       "       [-0.09643322],\n",
       "       [ 0.04289569],\n",
       "       [-0.03452372],\n",
       "       [-0.02479119],\n",
       "       [-0.07212845],\n",
       "       [ 0.03723201],\n",
       "       [ 0.01255315],\n",
       "       [-0.03324879],\n",
       "       [-0.04118039],\n",
       "       [ 0.0011438 ],\n",
       "       [ 0.06078775],\n",
       "       [ 0.00286377],\n",
       "       [-0.00608025],\n",
       "       [ 0.0117839 ],\n",
       "       [ 0.03723201],\n",
       "       [-0.03075121],\n",
       "       [-0.00514531],\n",
       "       [-0.01090444],\n",
       "       [-0.0611766 ],\n",
       "       [-0.01090444],\n",
       "       [-0.0594727 ],\n",
       "       [-0.05295879],\n",
       "       [ 0.04560081],\n",
       "       [-0.02595242],\n",
       "       [-0.12609739],\n",
       "       [-0.02364456],\n",
       "       [-0.02364456],\n",
       "       [ 0.04666077],\n",
       "       [ 0.09924023],\n",
       "       [ 0.08379677],\n",
       "       [ 0.02200405],\n",
       "       [ 0.07912108],\n",
       "       [ 0.02061233],\n",
       "       [ 0.02736771],\n",
       "       [-0.03980959],\n",
       "       [ 0.01990842],\n",
       "       [ 0.03243323],\n",
       "       [ 0.01556684],\n",
       "       [-0.01599827],\n",
       "       [ 0.08058546],\n",
       "       [-0.09393565],\n",
       "       [ 0.00455189],\n",
       "       [-0.03075121],\n",
       "       [ 0.03896837],\n",
       "       [ 0.02269202],\n",
       "       [-0.04687948],\n",
       "       [-0.01290794],\n",
       "       [-0.07212845],\n",
       "       [-0.02712865],\n",
       "       [ 0.05078151],\n",
       "       [-0.06648815],\n",
       "       [ 0.01703713],\n",
       "       [ 0.02801651],\n",
       "       [ 0.054724  ],\n",
       "       [-0.03324879],\n",
       "       [ 0.04506617],\n",
       "       [ 0.04560081],\n",
       "       [-0.04118039],\n",
       "       [ 0.00620932],\n",
       "       [-0.01599827],\n",
       "       [ 0.01482271],\n",
       "       [ 0.02605609],\n",
       "       [-0.03075121],\n",
       "       [ 0.06123791],\n",
       "       [-0.01919705],\n",
       "       [-0.00894402],\n",
       "       [ 0.02671426],\n",
       "       [-0.03452372],\n",
       "       [ 0.00864028],\n",
       "       [ 0.03781448],\n",
       "       [-0.02139368],\n",
       "       [ 0.01022564],\n",
       "       [-0.03075121],\n",
       "       [ 0.0423449 ],\n",
       "       [-0.03581673],\n",
       "       [ 0.07573759],\n",
       "       [-0.03075121],\n",
       "       [-0.02364456],\n",
       "       [ 0.01776348],\n",
       "       [-0.05615757],\n",
       "       [-0.07814091],\n",
       "       [ 0.07763279],\n",
       "       [ 0.06898221],\n",
       "       [ 0.13359898],\n",
       "       [-0.09643322],\n",
       "       [-0.05140054],\n",
       "       [ 0.07341008],\n",
       "       [-0.01811827],\n",
       "       [ 0.01703713],\n",
       "       [-0.02712865],\n",
       "       [-0.00330371],\n",
       "       [ 0.07222365],\n",
       "       [-0.04836172],\n",
       "       [ 0.01407245],\n",
       "       [ 0.01630495],\n",
       "       [-0.02595242],\n",
       "       [ 0.01556684],\n",
       "       [ 0.01556684],\n",
       "       [ 0.03723201],\n",
       "       [ 0.06731722],\n",
       "       [ 0.04718617],\n",
       "       [-0.08682899],\n",
       "       [-0.00149859],\n",
       "       [-0.02028875],\n",
       "       [ 0.02337484],\n",
       "       [ 0.01022564],\n",
       "       [-0.02952762],\n",
       "       [ 0.03953988],\n",
       "       [ 0.00200784],\n",
       "       [ 0.00783714],\n",
       "       [-0.03324879],\n",
       "       [ 0.01331597],\n",
       "       [-0.07408887],\n",
       "       [ 0.08989869],\n",
       "       [-0.02832024],\n",
       "       [-0.05295879],\n",
       "       [ 0.08449528],\n",
       "       [ 0.02539313],\n",
       "       [ 0.00200784],\n",
       "       [ 0.06345592],\n",
       "       [ 0.00943641],\n",
       "       [ 0.04613233],\n",
       "       [-0.00149859],\n",
       "       [-0.01190068],\n",
       "       [-0.03324879],\n",
       "       [-0.02251217],\n",
       "       [-0.00060925],\n",
       "       [-0.02251217],\n",
       "       [-0.03980959],\n",
       "       [ 0.0366458 ],\n",
       "       [ 0.04560081],\n",
       "       [ 0.03365681],\n",
       "       [ 0.00702686],\n",
       "       [ 0.0011438 ],\n",
       "       [-0.10164355],\n",
       "       [ 0.0011438 ],\n",
       "       [ 0.0011438 ],\n",
       "       [-0.01811827],\n",
       "       [-0.03581673],\n",
       "       [ 0.06301662],\n",
       "       [-0.03980959],\n",
       "       [-0.03845911],\n",
       "       [-0.02712865],\n",
       "       [-0.02364456],\n",
       "       [ 0.05027649],\n",
       "       [ 0.00943641],\n",
       "       [ 0.02405258],\n",
       "       [-0.02595242],\n",
       "       [ 0.06432823],\n",
       "       [-0.00514531],\n",
       "       [ 0.04067226],\n",
       "       [-0.04836172],\n",
       "       [ 0.0110081 ],\n",
       "       [ 0.06604821],\n",
       "       [ 0.03365681],\n",
       "       [-0.02952762],\n",
       "       [-0.07814091],\n",
       "       [-0.0439854 ],\n",
       "       [-0.0439854 ],\n",
       "       [-0.04986847],\n",
       "       [ 0.04506617],\n",
       "       [-0.01090444],\n",
       "       [ 0.06389312],\n",
       "       [ 0.0702113 ],\n",
       "       [ 0.07573759],\n",
       "       [ 0.08449528],\n",
       "       [-0.00421986],\n",
       "       [ 0.03486419],\n",
       "       [ 0.12005338],\n",
       "       [-0.00330371],\n",
       "       [ 0.02801651],\n",
       "       [-0.00514531],\n",
       "       [-0.03712835],\n",
       "       [-0.0439854 ],\n",
       "       [-0.08023654],\n",
       "       [-0.01290794],\n",
       "       [ 0.03486419],\n",
       "       [-0.07212845],\n",
       "       [-0.0594727 ],\n",
       "       [ 0.01482271],\n",
       "       [-0.08682899],\n",
       "       [ 0.02337484],\n",
       "       [ 0.02930041],\n",
       "       [-0.01190068],\n",
       "       [ 0.00864028],\n",
       "       [-0.01811827],\n",
       "       [-0.01811827],\n",
       "       [ 0.10635428],\n",
       "       [ 0.01556684],\n",
       "       [ 0.0110081 ],\n",
       "       [ 0.05757286],\n",
       "       [-0.02139368],\n",
       "       [ 0.0011438 ],\n",
       "       [-0.01599827],\n",
       "       [ 0.01630495],\n",
       "       [ 0.02405258],\n",
       "       [-0.00894402],\n",
       "       [-0.06832974],\n",
       "       [ 0.00286377],\n",
       "       [ 0.05988072],\n",
       "       [-0.01919705],\n",
       "       [ 0.03243323],\n",
       "       [-0.07020931],\n",
       "       [ 0.06123791],\n",
       "       [ 0.02993565],\n",
       "       [ 0.05803913],\n",
       "       [-0.06291295],\n",
       "       [-0.05454415],\n",
       "       [-0.07408887],\n",
       "       [ 0.01630495],\n",
       "       [-0.05615757],\n",
       "       [-0.06468302],\n",
       "       [-0.03075121],\n",
       "       [-0.02595242],\n",
       "       [ 0.04289569],\n",
       "       [-0.02139368],\n",
       "       [ 0.03119299],\n",
       "       [ 0.07380215],\n",
       "       [-0.02251217],\n",
       "       [ 0.01776348],\n",
       "       [-0.03980959],\n",
       "       [ 0.02337484],\n",
       "       [-0.0611766 ],\n",
       "       [ 0.02671426],\n",
       "       [-0.01811827],\n",
       "       [ 0.01255315],\n",
       "       [-0.03845911],\n",
       "       [ 0.05520504],\n",
       "       [-0.01190068],\n",
       "       [-0.01090444],\n",
       "       [ 0.07496834],\n",
       "       [ 0.02472532],\n",
       "       [ 0.00943641],\n",
       "       [ 0.02866072],\n",
       "       [ 0.03304707],\n",
       "       [ 0.09864637],\n",
       "       [ 0.13339573],\n",
       "       [ 0.12901941],\n",
       "       [ 0.06604821],\n",
       "       [ 0.08449528],\n",
       "       [ 0.02993565],\n",
       "       [-0.00060925],\n",
       "       [-0.00149859],\n",
       "       [-0.0170521 ],\n",
       "       [-0.02364456],\n",
       "       [-0.04118039],\n",
       "       [ 0.05710419],\n",
       "       [ 0.02930041],\n",
       "       [-0.06291295],\n",
       "       [-0.05140054],\n",
       "       [ 0.08094791],\n",
       "       [ 0.00538437],\n",
       "       [-0.02251217],\n",
       "       [ 0.04344317],\n",
       "       [-0.03581673],\n",
       "       [-0.02479119],\n",
       "       [-0.02364456],\n",
       "       [-0.05780007],\n",
       "       [ 0.00702686],\n",
       "       [-0.00060925],\n",
       "       [ 0.06257518],\n",
       "       [ 0.00371174],\n",
       "       [-0.01090444],\n",
       "       [-0.0611766 ],\n",
       "       [ 0.0702113 ],\n",
       "       [-0.05780007],\n",
       "       [-0.02028875],\n",
       "       [ 0.13237265],\n",
       "       [ 0.07419254],\n",
       "       [-0.03324879],\n",
       "       [-0.02832024],\n",
       "       [ 0.04976866],\n",
       "       [-0.08238148],\n",
       "       [ 0.01482271],\n",
       "       [ 0.01331597],\n",
       "       [-0.07212845],\n",
       "       [ 0.00371174],\n",
       "       [ 0.01919903],\n",
       "       [ 0.01482271],\n",
       "       [ 0.03119299],\n",
       "       [ 0.07102158],\n",
       "       [ 0.03365681],\n",
       "       [ 0.08553312],\n",
       "       [-0.00514531],\n",
       "       [-0.0611766 ],\n",
       "       [ 0.11934399],\n",
       "       [-0.01090444],\n",
       "       [-0.0425721 ],\n",
       "       [-0.00060925],\n",
       "       [ 0.02801651],\n",
       "       [ 0.04613233],\n",
       "       [ 0.00943641],\n",
       "       [ 0.02269202],\n",
       "       [-0.04687948],\n",
       "       [-0.05140054],\n",
       "       [-0.01290794],\n",
       "       [ 0.10413761],\n",
       "       [-0.01811827],\n",
       "       [ 0.02405258],\n",
       "       [-0.02595242],\n",
       "       [-0.03075121],\n",
       "       [-0.10436482],\n",
       "       [ 0.02671426],\n",
       "       [-0.04118039],\n",
       "       [ 0.10329226],\n",
       "       [-0.08913686],\n",
       "       [-0.04118039],\n",
       "       [-0.03980959],\n",
       "       [ 0.13008061],\n",
       "       [ 0.03181522],\n",
       "       [-0.09643322],\n",
       "       [ 0.03605579],\n",
       "       [ 0.04506617],\n",
       "       [ 0.03953988],\n",
       "       [-0.03452372],\n",
       "       [-0.0425721 ],\n",
       "       [ 0.01556684],\n",
       "       [ 0.06168585],\n",
       "       [-0.02712865],\n",
       "       [ 0.0366458 ],\n",
       "       [-0.05615757],\n",
       "       [-0.04836172],\n",
       "       [ 0.05803913],\n",
       "       [ 0.03056649],\n",
       "       [ 0.06604821],\n",
       "       [-0.05140054],\n",
       "       [ 0.00620932],\n",
       "       [-0.03581673],\n",
       "       [ 0.054724  ],\n",
       "       [ 0.01482271],\n",
       "       [-0.02952762],\n",
       "       [-0.04687948],\n",
       "       [-0.02139368],\n",
       "       [-0.07408887],\n",
       "       [-0.03324879],\n",
       "       [ 0.04976866],\n",
       "       [ 0.04067226],\n",
       "       [ 0.01556684],\n",
       "       [ 0.02405258],\n",
       "       [-0.02028875],\n",
       "       [ 0.03546194],\n",
       "       [-0.04542096],\n",
       "       [ 0.06604821],\n",
       "       [-0.02595242],\n",
       "       [-0.00991896],\n",
       "       [-0.01495648],\n",
       "       [ 0.05568355],\n",
       "       [-0.05140054],\n",
       "       [-0.04542096],\n",
       "       [-0.03845911],\n",
       "       [-0.0611766 ],\n",
       "       [ 0.03119299],\n",
       "       [-0.01811827],\n",
       "       [-0.04687948],\n",
       "       [ 0.04452837],\n",
       "       [-0.00421986]])"
      ]
     },
     "execution_count": 18,
     "metadata": {},
     "output_type": "execute_result"
    }
   ],
   "source": [
    "diabetes_x = diabetes_train[:,-2:-1]\n",
    "diabetes_x"
   ]
  },
  {
   "cell_type": "code",
   "execution_count": 19,
   "metadata": {},
   "outputs": [
    {
     "data": {
      "text/plain": [
       "array([0, 0, 0, 1, 0, 0, 0, 0, 0, 1, 0, 0, 1, 1, 0, 1, 1, 0, 0, 1, 0, 0,\n",
       "       0, 1, 1, 1, 0, 0, 0, 1, 0, 0, 1, 0, 0, 0, 1, 1, 1, 0, 0, 0, 0, 0,\n",
       "       1, 0, 1, 0, 0, 0, 1, 1, 0, 0, 1, 0, 0, 0, 1, 1, 0, 0, 0, 0, 0, 1,\n",
       "       0, 0, 1, 1, 0, 1, 1, 0, 0, 0, 1, 1, 1, 0, 0, 0, 0, 1, 0, 0, 0, 0,\n",
       "       0, 0, 0, 1, 0, 0, 0, 1, 0, 1, 0, 0, 0, 0, 1, 1, 0, 0, 0, 0, 1, 0,\n",
       "       0, 0, 1, 1, 1, 1, 1, 1, 1, 1, 1, 1, 1, 0, 0, 1, 0, 0, 0, 1, 1, 1,\n",
       "       0, 0, 0, 1, 0, 1, 1, 1, 0, 1, 1, 0, 1, 1, 1, 0, 0, 0, 1, 0, 1, 0,\n",
       "       1, 1, 0, 0, 0, 1, 0, 1, 1, 0, 1, 0, 0, 1, 1, 0, 0, 0, 1, 0, 0, 0,\n",
       "       1, 1, 0, 0, 0, 0, 0, 1, 1, 0, 0, 0, 0, 0, 1, 1, 0, 0, 0, 0, 0, 0,\n",
       "       0, 0, 1, 0, 1, 1, 1, 0, 1, 1, 1, 0, 1, 0, 0, 0, 0, 1, 1, 1, 1, 1,\n",
       "       0, 0, 1, 0, 0, 1, 0, 0, 1, 0, 1, 1, 1, 0, 1, 0, 0, 0, 1, 1, 1, 1,\n",
       "       0, 0, 1, 0, 0, 0, 1, 1, 1, 1, 0, 0, 1, 1, 1, 0, 0, 0, 0, 0, 1, 0,\n",
       "       0, 0, 0, 0, 1, 0, 1, 0, 1, 1, 0, 0, 1, 0, 0, 1, 1, 0, 1, 1, 1, 1,\n",
       "       0, 1, 0, 0, 1, 1, 0, 1, 0, 0, 0, 0, 0, 0, 1, 0, 1, 1, 1, 0, 0, 1,\n",
       "       0, 0, 0, 1, 0, 1, 0, 0, 1, 1, 0, 1, 0, 1, 1, 1, 1, 1, 0, 1, 0, 0,\n",
       "       1, 1, 1, 1, 0, 0, 1, 0, 1, 0, 1, 1, 1, 0, 1, 0, 0, 0, 0, 0, 1, 0,\n",
       "       0, 0, 1, 0, 0, 1, 0, 1, 1, 1, 1, 0, 1, 1, 1, 1, 0, 1, 0, 1, 0, 1,\n",
       "       0, 1, 0, 1, 1, 0, 0, 0, 0, 0, 0, 1, 0, 1, 0, 0, 1, 0, 0, 0, 1, 1,\n",
       "       0, 1, 1, 1, 1, 0, 1, 1, 1, 1, 0, 0, 1, 1, 1, 0, 1, 0, 0, 1, 1, 0,\n",
       "       0, 0, 0, 1, 1, 0, 0, 0, 0, 0, 1, 0, 1, 0, 1, 0, 0, 0, 0, 1, 0, 0,\n",
       "       1, 0])"
      ]
     },
     "execution_count": 19,
     "metadata": {},
     "output_type": "execute_result"
    }
   ],
   "source": [
    "diabetes_y = diabetes_target_zero_one\n",
    "diabetes_y"
   ]
  },
  {
   "cell_type": "markdown",
   "metadata": {},
   "source": [
    "# 5. Split into Train & Test data"
   ]
  },
  {
   "cell_type": "code",
   "execution_count": 22,
   "metadata": {},
   "outputs": [
    {
     "name": "stdout",
     "output_type": "stream",
     "text": [
      "(309, 1)\n",
      "(133, 1)\n",
      "(309,)\n",
      "(133,)\n"
     ]
    }
   ],
   "source": [
    "x_train, x_test, y_train, y_test = model_selection.train_test_split(diabetes_x, diabetes_y,test_size=0.3,random_state=42)\n",
    "print(x_train.shape)\n",
    "print(x_test.shape)\n",
    "print(y_train.shape)\n",
    "print(y_test.shape)"
   ]
  },
  {
   "cell_type": "markdown",
   "metadata": {},
   "source": [
    "# 6. Create Model object"
   ]
  },
  {
   "cell_type": "code",
   "execution_count": 23,
   "metadata": {},
   "outputs": [
    {
     "data": {
      "text/plain": [
       "LogisticRegression(n_jobs=-1)"
      ]
     },
     "execution_count": 23,
     "metadata": {},
     "output_type": "execute_result"
    }
   ],
   "source": [
    "model = linear_model.LogisticRegression(n_jobs=-1)\n",
    "model"
   ]
  },
  {
   "cell_type": "markdown",
   "metadata": {},
   "source": [
    "# 7. Train Model object"
   ]
  },
  {
   "cell_type": "code",
   "execution_count": 24,
   "metadata": {},
   "outputs": [
    {
     "data": {
      "text/plain": [
       "LogisticRegression(n_jobs=-1)"
      ]
     },
     "execution_count": 24,
     "metadata": {},
     "output_type": "execute_result"
    }
   ],
   "source": [
    "model.fit(x_train, y_train)"
   ]
  },
  {
   "cell_type": "markdown",
   "metadata": {},
   "source": [
    "# 8. Test Model object"
   ]
  },
  {
   "cell_type": "code",
   "execution_count": 25,
   "metadata": {},
   "outputs": [
    {
     "data": {
      "text/plain": [
       "array([0, 0, 0, 1, 0, 0, 0, 0, 0, 0, 0, 0, 0, 0, 0, 0, 0, 0, 0, 0, 0, 0,\n",
       "       0, 0, 0, 0, 0, 0, 0, 0, 0, 0, 0, 0, 0, 0, 0, 0, 0, 0, 0, 0, 0, 0,\n",
       "       1, 0, 0, 0, 0, 0, 0, 0, 0, 0, 0, 0, 0, 0, 0, 0, 0, 0, 0, 0, 0, 0,\n",
       "       0, 0, 0, 0, 0, 0, 0, 0, 0, 0, 0, 0, 0, 0, 0, 0, 0, 0, 0, 0, 0, 0,\n",
       "       0, 0, 0, 0, 0, 0, 0, 0, 1, 0, 0, 0, 0, 0, 0, 0, 0, 0, 0, 0, 0, 0,\n",
       "       0, 0, 0, 0, 0, 0, 0, 0, 0, 0, 0, 0, 0, 0, 0, 0, 0, 0, 0, 0, 0, 0,\n",
       "       0])"
      ]
     },
     "execution_count": 25,
     "metadata": {},
     "output_type": "execute_result"
    }
   ],
   "source": [
    "model.predict(x_test)"
   ]
  },
  {
   "cell_type": "code",
   "execution_count": 27,
   "metadata": {},
   "outputs": [],
   "source": [
    "pred_test = model.predict_proba(x_test)"
   ]
  },
  {
   "cell_type": "code",
   "execution_count": 32,
   "metadata": {},
   "outputs": [
    {
     "name": "stdout",
     "output_type": "stream",
     "text": [
      "Accuracy:  0.571429\n"
     ]
    }
   ],
   "source": [
    "ac_score = accuracy_score(model.predict(x_test), y_test)\n",
    "print(\"Accuracy: {0: 5f}\".format(ac_score))"
   ]
  },
  {
   "cell_type": "markdown",
   "metadata": {},
   "source": [
    "# 9. Visualization"
   ]
  },
  {
   "cell_type": "code",
   "execution_count": 34,
   "metadata": {},
   "outputs": [],
   "source": [
    "from sklearn.metrics import roc_curve, auc"
   ]
  },
  {
   "cell_type": "code",
   "execution_count": 35,
   "metadata": {},
   "outputs": [],
   "source": [
    "fpr, tpr, _ = roc_curve(y_true=y_test, y_score=pred_test[:,1])\n",
    "roc_auc = auc(fpr, tpr)"
   ]
  },
  {
   "cell_type": "code",
   "execution_count": 45,
   "metadata": {},
   "outputs": [
    {
     "data": {
      "image/png": "[encoded data removed]",
      "text/plain": [
       "<Figure size 1296x720 with 1 Axes>"
      ]
     },
     "metadata": {
      "needs_background": "light"
     },
     "output_type": "display_data"
    }
   ],
   "source": [
    "plt.figure(figsize=(18, 10))\n",
    "\n",
    "plt.plot(fpr, tpr, color='darkorange', lw=2, label=\"ROC curve (area = %.2f)\"%roc_auc)\n",
    "plt.plot([0,1], [0,1], color='navy', lw=2, linestyle='--')\n",
    "\n",
    "plt.xlim([0.0, 1.0])\n",
    "plt.ylim([0.0, 1.05])\n",
    "plt.xlabel('False Positive Rate')\n",
    "plt.ylabel('True Positive Rate')\n",
    "plt.legend(loc='lower right')\n",
    "plt.title(\"ROC curve\", size=25)\n",
    "\n",
    "plt.show()"
   ]
  },
  {
   "cell_type": "code",
   "execution_count": null,
   "metadata": {},
   "outputs": [],
   "source": []
  },
  {
   "cell_type": "code",
   "execution_count": null,
   "metadata": {},
   "outputs": [],
   "source": []
  },
  {
   "cell_type": "code",
   "execution_count": null,
   "metadata": {},
   "outputs": [],
   "source": []
  },
  {
   "cell_type": "code",
   "execution_count": null,
   "metadata": {},
   "outputs": [],
   "source": []
  },
  {
   "cell_type": "code",
   "execution_count": null,
   "metadata": {},
   "outputs": [],
   "source": []
  },
  {
   "cell_type": "code",
   "execution_count": null,
   "metadata": {},
   "outputs": [],
   "source": []
  },
  {
   "cell_type": "code",
   "execution_count": null,
   "metadata": {},
   "outputs": [],
   "source": []
  }
 ],
 "metadata": {
  "kernelspec": {
   "display_name": "Python 3",
   "language": "python",
   "name": "python3"
  },
  "language_info": {
   "codemirror_mode": {
    "name": "ipython",
    "version": 3
   },
   "file_extension": ".py",
   "mimetype": "text/x-python",
   "name": "python",
   "nbconvert_exporter": "python",
   "pygments_lexer": "ipython3",
   "version": "3.8.5-final"
  }
 },
 "nbformat": 4,
 "nbformat_minor": 4
}